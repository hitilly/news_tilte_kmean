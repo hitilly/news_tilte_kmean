{
 "cells": [
  {
   "cell_type": "markdown",
   "id": "7cf395e2-7044-496d-9cec-739b3753df2e",
   "metadata": {
    "tags": []
   },
   "source": [
    "### (1) Init. and setup Env."
   ]
  },
  {
   "cell_type": "code",
   "execution_count": 93,
   "id": "d39a0403-4870-4722-a188-60637c172ea3",
   "metadata": {},
   "outputs": [],
   "source": [
    "## Configs:\n",
    "FN_NN = 'tmp/keywords_nn_draft.xlsx'\n",
    "FN_ESG = 'tmp/keywords_esg_draft.xlsx'\n",
    "FN_model = 'models/merge_sgns_bigram_char300.txt.bz2'"
   ]
  },
  {
   "cell_type": "code",
   "execution_count": 87,
   "id": "a5eca83c-a89f-4b63-81c6-6daef7e91fea",
   "metadata": {},
   "outputs": [],
   "source": [
    "# Import original keywords and helper functions\n",
    "import pandas as pd\n",
    "from news_classifier import config\n",
    "from news_classifier.w2vhelper import w2v"
   ]
  },
  {
   "cell_type": "code",
   "execution_count": 88,
   "id": "510c14de-5fe3-400f-9968-c97e027eda60",
   "metadata": {},
   "outputs": [
    {
     "name": "stdout",
     "output_type": "stream",
     "text": [
      "models/merge_sgns_bigram_char300.txt.bz2 loaded\n"
     ]
    }
   ],
   "source": [
    "# Load model\n",
    "w2v = w2v()\n",
    "w2v.load_model(FN_model)"
   ]
  },
  {
   "cell_type": "code",
   "execution_count": 90,
   "id": "6a1d570b-eea3-419a-bb41-d0009f52aa2f",
   "metadata": {},
   "outputs": [
    {
     "data": {
      "text/plain": [
       "[('詐騙案', 0.7540429830551147),\n",
       " ('行騙', 0.7037684917449951),\n",
       " ('詐騙犯', 0.67093825340271),\n",
       " ('欺詐', 0.6673640012741089),\n",
       " ('詐騙者', 0.6636461019515991)]"
      ]
     },
     "execution_count": 90,
     "metadata": {},
     "output_type": "execute_result"
    }
   ],
   "source": [
    "# Simple test\n",
    "w2v.most_similar('詐騙')"
   ]
  },
  {
   "cell_type": "markdown",
   "id": "85d38e9e-2d3f-416a-b9d7-4229a1bf1bad",
   "metadata": {
    "tags": []
   },
   "source": [
    "### (2) Expand keywords and export to Excel files."
   ]
  },
  {
   "cell_type": "code",
   "execution_count": 91,
   "id": "b42bedc6-f6f8-4f3e-872e-7828219960b2",
   "metadata": {},
   "outputs": [
    {
     "name": "stdout",
     "output_type": "stream",
     "text": [
      "OOV 人口贩卖\n",
      "OOV 工安事故\n",
      "OOV 不如预期\n",
      "OOV 不实财务披露\n",
      "OOV 内幕交易\n",
      "OOV 公款出国\n",
      "OOV 公款出境\n",
      "OOV 公款购买\n",
      "OOV 以公谋私\n",
      "OOV 以检谋私\n",
      "OOV 市场泡沫\n",
      "OOV 市场禁入\n",
      "OOV 地下钱庄\n",
      "OOV 作空\n",
      "OOV 利益交换\n",
      "OOV 肥手指\n",
      "OOV 怠忽职守\n",
      "OOV 美化财务报表\n",
      "OOV 美化财报\n",
      "OOV 负面展望\n",
      "OOV 军火贩运\n",
      "OOV 倒货\n",
      "OOV 气爆\n",
      "OOV 财报不实\n",
      "OOV 财报难产\n",
      "OOV 追究党纪责任\n",
      "OOV 假交易\n",
      "OOV 勒令停工\n",
      "OOV 帐务不实\n",
      "OOV 推诿扯皮\n",
      "OOV 被抓\n",
      "OOV 被诉\n",
      "OOV 贩卖武器\n",
      "OOV 无法表示意见\n",
      "OOV 无预警\n",
      "OOV 诈贷\n",
      "OOV 买官卖官\n",
      "OOV 越权审批\n",
      "OOV 黑箱作业\n",
      "OOV 经济泡沫\n",
      "OOV 经营倒闭\n",
      "OOV 资金链危机\n",
      "OOV 资金链困难\n",
      "OOV 资金链紧张\n",
      "OOV 资金链断裂\n",
      "OOV 运毒\n",
      "OOV 幕后黑手\n",
      "OOV 弊案\n",
      "OOV 撤销公开\n",
      "OOV 网路犯罪\n",
      "OOV 银行紧缩\n",
      "OOV 暴力威胁\n",
      "OOV 调降信用评等\n",
      "OOV 调降信评\n",
      "OOV 卖毒\n",
      "OOV 操弄股价\n",
      "OOV 钱色交易\n",
      "OOV 检调约谈\n",
      "OOV 谣传危机\n",
      "OOV 藏毒\n",
      "OOV 骗贷\n",
      "OOV 权色交易\n",
      "OOV 权权交易\n",
      "OOV 全额交割\n",
      "OOV 踩雷\n",
      "OOV 不法组织\n",
      "OOV 空污\n",
      "OOV 高碳排\n",
      "OOV 气爆\n",
      "OOV 过劳致死\n",
      "OOV 职灾\n",
      "OOV 职业安全\n",
      "OOV 剥削劳工\n",
      "OOV 撤照\n",
      "OOV 裁罚\n",
      "OOV 财报不实\n",
      "OOV 操纵股价\n",
      "OOV 非常规交易\n",
      "OOV 假交易\n"
     ]
    }
   ],
   "source": [
    "# Expand keywords \n",
    "nndata = w2v.extend_keywords(config.NN_KEYWORDS)\n",
    "esgdata = w2v.extend_keywords(config.ESG_KEYWORDS)"
   ]
  },
  {
   "cell_type": "code",
   "execution_count": 95,
   "id": "947c808b-6107-4377-8050-394d113fbd0c",
   "metadata": {},
   "outputs": [
    {
     "name": "stdout",
     "output_type": "stream",
     "text": [
      "NN Extended: tmp/keywords_nn_draft.xlsx (332 => 820)\n",
      "ESG Extended: tmp/keywords_esg_draft.xlsx (57 => 159)\n"
     ]
    }
   ],
   "source": [
    "# Export to excel\n",
    "dfnn=pd.DataFrame(nndata)\n",
    "dfnn.to_excel(FN_NN, index=False)\n",
    "print(\"NN Extended: {} ({} => {})\".format(FN_NN, len(config.NN_KEYWORDS), dfnn.shape[0]))      \n",
    "      \n",
    "dfesg=pd.DataFrame(esgdata)\n",
    "dfesg.to_excel(FN_ESG, index=False)\n",
    "print(\"ESG Extended: {} ({} => {})\".format(FN_ESG, len(config.ESG_KEYWORDS), dfesg.shape[0]))"
   ]
  },
  {
   "cell_type": "markdown",
   "id": "546121c8-d451-48f7-9597-0af4b11d5488",
   "metadata": {},
   "source": [
    "### (3) Manual Review and Summary\n",
    " - 請Review上述生成之Excel 檔案 (Selected欄位)，欄位說明如下\n",
    "   - Keywords: NN/ESG 關鍵字\n",
    "   - Seed: \n",
    "     - 原始種子關鍵字 = 1\n",
    "     - 新擴增關鍵字 = 0\n",
    "   - Selected = 此欄位需人工複核\n",
    "     - 加入新關鍵字清單 = 1\n",
    "     - 不使用此關鍵字 = 0\n",
    "   - Vector: word2vec 向量 (如無向量，則表示模型未包含此關鍵詞)"
   ]
  },
  {
   "cell_type": "code",
   "execution_count": 96,
   "id": "daa105af-86ff-4a28-be76-63b91c2783bb",
   "metadata": {},
   "outputs": [],
   "source": [
    "# Releases/202207\n",
    "nn_reviewed  = 'Releases/202207/keywords_nn_v202207.xlsx'\n",
    "esg_reviewed = 'Releases/202207/keywords_esg_v202207.xlsx'"
   ]
  },
  {
   "cell_type": "code",
   "execution_count": 97,
   "id": "df9af4c8-50fb-4986-95f5-2783e797660f",
   "metadata": {},
   "outputs": [
    {
     "name": "stdout",
     "output_type": "stream",
     "text": [
      "# NN 關鍵字擴增統計:\n",
      "#   - 原種子關鍵字 332\n",
      "#   - 新擴充關鍵字 488\n",
      "#   - 人工複核新增 296 (60.66%)\n",
      "#--------------------------------\n",
      "# => 最終擴增結果: 628 (189.16%)\n"
     ]
    }
   ],
   "source": [
    "df = pd.read_excel(nn_reviewed)\n",
    "cntSeed = df[df['Seed'] ==1].shape[0]\n",
    "cntExpand = df[df['Seed'] ==0].shape[0]\n",
    "cntSelected = df[df['Selected'] ==1].shape[0]\n",
    "reviewed = cntSelected - cntSeed\n",
    "print(\"# NN 關鍵字擴增統計:\")\n",
    "print(\"#   - 原種子關鍵字\", cntSeed)\n",
    "print(\"#   - 新擴充關鍵字\", cntExpand)\n",
    "print(\"#   - 人工複核新增 {} ({:.2f}%)\".format(reviewed, reviewed/cntExpand*100) )\n",
    "print(\"#--------------------------------\")\n",
    "print(\"# => 最終擴增結果: {} ({:.2f}%)\".format(cntSelected, cntSelected/cntSeed*100) )"
   ]
  },
  {
   "cell_type": "code",
   "execution_count": 98,
   "id": "7a35d204-0304-41bd-8e7a-17d8f8097c2d",
   "metadata": {},
   "outputs": [
    {
     "name": "stdout",
     "output_type": "stream",
     "text": [
      "# ESG 關鍵字擴增統計:\n",
      "#   - 原種子關鍵字 57\n",
      "#   - 新擴充關鍵字 102\n",
      "#   - 人工複核新增 44 (43.14%)\n",
      "#--------------------------------\n",
      "# => 最終擴增結果: 101 (177.19%)\n"
     ]
    }
   ],
   "source": [
    "df = pd.read_excel(esg_reviewed)\n",
    "cntSeed = df[df['Seed'] ==1].shape[0]\n",
    "cntExpand = df[df['Seed'] ==0].shape[0]\n",
    "cntSelected = df[df['Selected'] ==1].shape[0]\n",
    "reviewed = cntSelected - cntSeed\n",
    "print(\"# ESG 關鍵字擴增統計:\")\n",
    "print(\"#   - 原種子關鍵字\", cntSeed)\n",
    "print(\"#   - 新擴充關鍵字\", cntExpand)\n",
    "print(\"#   - 人工複核新增 {} ({:.2f}%)\".format(reviewed, reviewed/cntExpand*100) )\n",
    "print(\"#--------------------------------\")\n",
    "print(\"# => 最終擴增結果: {} ({:.2f}%)\".format(cntSelected, cntSelected/cntSeed*100) )"
   ]
  },
  {
   "cell_type": "markdown",
   "id": "fa4b4b87-f4df-4342-bbcc-c5ae8282c45c",
   "metadata": {
    "tags": []
   },
   "source": [
    "### (4) Visualization via tensorboard\n",
    " - https://projector.tensorflow.org/ (Upload manually)\n",
    " - Online demo: \n",
    "   - https://projector.tensorflow.org/?config=%20https://wmyaoyao.bot.nu:8443/demos/config_nn.json\n",
    " "
   ]
  },
  {
   "cell_type": "code",
   "execution_count": 99,
   "id": "e2a5a822-305a-4388-a83b-b14200c1ca4c",
   "metadata": {
    "tags": []
   },
   "outputs": [],
   "source": [
    "# Helper functions\n",
    "def format_df_vector(vvv):\n",
    "    line = str(vvv[0])\n",
    "    for v in vvv[1:]:\n",
    "        line = line + '\\t' + str(v)\n",
    "    line = line + \"\\n\"\n",
    "    return line\n",
    "    \n",
    "def format_excel_vec(vvv):\n",
    "    # [ 0.179107 -0.156642 -0.696843 -0.795377  1.155509 -0.930281 -0.395106\\n...\n",
    "    vvv = vvv.replace('\\n','').replace('[','').replace(']','')\n",
    "    line = '\\t'.join(vvv.split())\n",
    "    line += '\\n'\n",
    "    return line\n",
    "\n",
    "def export_to_tfboard(df, prefix):\n",
    "    vectorFN = \"{}_vector.tsv\".format(prefix)\n",
    "    metaFN = \"{}_meta.tsv\".format(prefix)\n",
    "    \n",
    "    fvec  = open(vectorFN, 'w')\n",
    "    fmeta = open(metaFN, 'w')\n",
    "    \n",
    "    fmeta.write(\"Keyword\\tSeed\\n\")\n",
    "\n",
    "    for idx, row in df.iterrows():\n",
    "        vecstr = format_excel_vec(row['Vector'])\n",
    "        fvec.write(vecstr)\n",
    "        fmeta.write(\"{}\\t{}\\n\".format(row['Keyword'], row['Seed']))\n",
    "    \n",
    "    fvec.close()\n",
    "    fmeta.close()\n",
    "    print(\" File exported: \", vectorFN, metaFN)\n",
    "    print(\" Please load the two files into tensorboard for visualization.\")"
   ]
  },
  {
   "cell_type": "code",
   "execution_count": 101,
   "id": "bb82a9f5-1ba6-423c-abe6-81114530fe8e",
   "metadata": {},
   "outputs": [
    {
     "name": "stdout",
     "output_type": "stream",
     "text": [
      " File exported:  Releases/202207/TF_nn_vector.tsv Releases/202207/TF_nn_meta.tsv\n",
      " Please load the two files into tensorboard for visualization.\n",
      " File exported:  Releases/202207//TF_esg_vector.tsv Releases/202207//TF_esg_meta.tsv\n",
      " Please load the two files into tensorboard for visualization.\n"
     ]
    }
   ],
   "source": [
    "dfnn = pd.read_excel(nn_reviewed)\n",
    "m = dfnn['Vector'].notnull() & dfnn['Selected']==1\n",
    "export_to_tfboard(dfnn.loc[m],  'Releases/202207/TF_nn')\n",
    "\n",
    "\n",
    "dfesg = pd.read_excel(esg_reviewed)\n",
    "m = dfesg['Vector'].notnull() & dfesg['Selected']==1\n",
    "export_to_tfboard(dfesg.loc[m],  'Releases/202207//TF_esg')\n"
   ]
  },
  {
   "cell_type": "code",
   "execution_count": null,
   "id": "d8ac8b51-cf70-44fd-8eb3-25b1e677d98c",
   "metadata": {},
   "outputs": [],
   "source": []
  }
 ],
 "metadata": {
  "kernelspec": {
   "display_name": "Python 3 (ipykernel)",
   "language": "python",
   "name": "python3"
  },
  "language_info": {
   "codemirror_mode": {
    "name": "ipython",
    "version": 3
   },
   "file_extension": ".py",
   "mimetype": "text/x-python",
   "name": "python",
   "nbconvert_exporter": "python",
   "pygments_lexer": "ipython3",
   "version": "3.7.13"
  }
 },
 "nbformat": 4,
 "nbformat_minor": 5
}
